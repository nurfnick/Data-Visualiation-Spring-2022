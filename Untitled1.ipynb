{
  "nbformat": 4,
  "nbformat_minor": 0,
  "metadata": {
    "colab": {
      "name": "Untitled1.ipynb",
      "provenance": [],
      "authorship_tag": "ABX9TyNXR17Tx+u1ItR6qkpQVEj9",
      "include_colab_link": true
    },
    "kernelspec": {
      "name": "python3",
      "display_name": "Python 3"
    },
    "language_info": {
      "name": "python"
    }
  },
  "cells": [
    {
      "cell_type": "markdown",
      "metadata": {
        "id": "view-in-github",
        "colab_type": "text"
      },
      "source": [
        "<a href=\"https://colab.research.google.com/github/sovikapoudel/Data-Visualiation-Spring-2022/blob/main/Untitled1.ipynb\" target=\"_parent\"><img src=\"https://colab.research.google.com/assets/colab-badge.svg\" alt=\"Open In Colab\"/></a>"
      ]
    },
    {
      "cell_type": "markdown",
      "source": [
        "<h1><center>Data Visualization Spring 2022</center></h1>\n",
        "\n",
        "---\n",
        "\n",
        "###Assignment: 1\n",
        "Name: Sovika Poudel <br>\n",
        "Year: Junior <br>\n",
        "Course: CPSMA-4313 Data Processing Visualization \n",
        "### For this part of Assignment I am going to load the libraries, gather dataset and load them here in this notebook."
      ],
      "metadata": {
        "id": "IrbetuyDq88L"
      }
    },
    {
      "cell_type": "code",
      "source": [
        ""
      ],
      "metadata": {
        "id": "hEtxhMxgsUJP"
      },
      "execution_count": null,
      "outputs": []
    }
  ]
}